{
 "cells": [
  {
   "cell_type": "code",
   "execution_count": 1,
   "metadata": {},
   "outputs": [],
   "source": [
    "import pandas as pd\n",
    "import numpy as np\n",
    "import matplotlib.pyplot as plt\n",
    "import seaborn as sns\n",
    "from sklearn.impute import SimpleImputer\n",
    "from sklearn.model_selection import KFold, StratifiedKFold, cross_val_score, train_test_split\n",
    "from sklearn.linear_model import LogisticRegression\n",
    "from sklearn import metrics\n",
    "from sklearn.metrics import confusion_matrix, precision_recall_curve"
   ]
  },
  {
   "cell_type": "code",
   "execution_count": 2,
   "metadata": {},
   "outputs": [],
   "source": [
    "def plot_distribution(feature): \n",
    "    plt.figure(dpi=100)\n",
    "    sns.histplot(dataframe[feature], color='tab:green', bins=25)\n",
    "    plt.title('Histogram of '+feature, fontsize = 13, fontweight='bold')\n",
    "    plt.xlabel(feature, size=12, fontweight='bold')\n",
    "    plt.ylabel('Density', size=12, fontweight='bold');"
   ]
  },
  {
   "cell_type": "code",
   "execution_count": 3,
   "metadata": {},
   "outputs": [],
   "source": [
    "def replace_missing(df, columns, strategy):    \n",
    "    imp = SimpleImputer(missing_values=np.nan, strategy=strategy)\n",
    "    df_tmp  = pd.DataFrame(data=imp.fit_transform(df[columns]),\n",
    "                       columns=df[columns].columns, index=df[columns].index)\n",
    "    df.drop(columns=columns, inplace=True)\n",
    "    df = pd.concat([df,df_tmp], axis=1)    \n",
    "    return df"
   ]
  },
  {
   "cell_type": "code",
   "execution_count": 4,
   "metadata": {},
   "outputs": [],
   "source": [
    "def Set_X_y(data, target):\n",
    "    return data.drop(target, axis=1), data.loc[:,target]"
   ]
  },
  {
   "cell_type": "code",
   "execution_count": 5,
   "metadata": {},
   "outputs": [],
   "source": [
    "def plot_heat_map(data):    \n",
    "    corr = data.corr() \n",
    "    grid_kws = {\"height_ratios\": (0.95, .05), \"hspace\": .4}\n",
    "    fig, (ax, cbar_ax) = plt.subplots(2, gridspec_kw=grid_kws, figsize=(20,20), dpi=150)\n",
    "    ax = sns.heatmap(round(corr,2), ax=ax, cbar_ax=cbar_ax, cmap=\"viridis\",cbar_kws={\"orientation\": \"horizontal\"},\n",
    "                     linewidths=0.05, annot=True, annot_kws={\"size\":25})\n",
    "    ax.set_xticklabels(ax.get_xticklabels(), rotation=50, fontweight='bold', fontsize=25) \n",
    "    ax.set_yticklabels(ax.get_yticklabels(), rotation=0, fontweight='bold', fontsize=25)\n",
    "    cbar_ax.tick_params(labelsize=25)"
   ]
  },
  {
   "cell_type": "code",
   "execution_count": 6,
   "metadata": {},
   "outputs": [],
   "source": [
    "def plot_confusion_matrix(actual, prediction):    \n",
    "    cnf_matrix = confusion_matrix(actual, prediction)\n",
    "    labels = [0,1]\n",
    "    fig, ax = plt.subplots(figsize = (5,3), dpi=100)\n",
    "    sns.heatmap(cnf_matrix, annot=True, xticklabels=labels, yticklabels=labels, cmap=\"viridis_r\", annot_kws={\"size\":20}, fmt='d')\n",
    "    ax.set_xlabel('Predicted', size=13, fontweight='bold')\n",
    "    ax.set_ylabel('Actual', size=13, fontweight='bold')\n",
    "    ax.set_xticklabels(ax.get_xticklabels(), rotation=0, fontweight='bold', fontsize=13)\n",
    "    ax.set_yticklabels(ax.get_yticklabels(), rotation=0, fontweight='bold', fontsize=13)\n",
    "    plt.show()"
   ]
  },
  {
   "cell_type": "code",
   "execution_count": 7,
   "metadata": {},
   "outputs": [],
   "source": [
    "def classification_metrics(actual, prediction):    \n",
    "    accuracy = metrics.accuracy_score(actual, prediction)\n",
    "    recall = metrics.recall_score(actual, prediction)\n",
    "    precision = metrics.precision_score(actual, prediction)\n",
    "    f1score = metrics.f1_score(actual, prediction)\n",
    "    \n",
    "    performance = pd.DataFrame({\"Accuracy\":round(accuracy,4), \"Recall\":round(recall,4),\"Precision\":round(precision,4),\n",
    "                               \"F-score\":round(f1score,4)}, index=[0])\n",
    "    return performance"
   ]
  }
 ],
 "metadata": {
  "kernelspec": {
   "display_name": "Python 3",
   "language": "python",
   "name": "python3"
  },
  "language_info": {
   "codemirror_mode": {
    "name": "ipython",
    "version": 3
   },
   "file_extension": ".py",
   "mimetype": "text/x-python",
   "name": "python",
   "nbconvert_exporter": "python",
   "pygments_lexer": "ipython3",
   "version": "3.7.6"
  }
 },
 "nbformat": 4,
 "nbformat_minor": 4
}
